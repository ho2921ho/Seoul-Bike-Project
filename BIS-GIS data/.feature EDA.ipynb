{
 "cells": [
  {
   "cell_type": "code",
   "execution_count": 4,
   "metadata": {},
   "outputs": [],
   "source": [
    "import os\n",
    "from os import listdir\n",
    "import pandas as pd"
   ]
  },
  {
   "cell_type": "code",
   "execution_count": 18,
   "metadata": {},
   "outputs": [
    {
     "data": {
      "text/plain": [
       "['1000_POI.csv',\n",
       " 'APT_100M.csv',\n",
       " 'BANK_POI.csv',\n",
       " 'CHILDCARE_POI.csv',\n",
       " 'COMPOP_100M.csv',\n",
       " 'CVS_100M.csv',\n",
       " 'HIGH_POI.csv',\n",
       " 'HOSPITAL_100M.csv',\n",
       " 'HOUSPOP_100M.csv',\n",
       " 'INCOMECLASS_100M.csv',\n",
       " 'KINDERGARDEN_POI.csv',\n",
       " 'KOSDAQ_100M.csv',\n",
       " 'LAND_100M.csv',\n",
       " 'MIDDLE_POI.csv',\n",
       " 'PRIMARY_POI.csv',\n",
       " 'UNIVERSITY_POI.csv',\n",
       " 'VILLA_100M.csv']"
      ]
     },
     "execution_count": 18,
     "metadata": {},
     "output_type": "execute_result"
    }
   ],
   "source": [
    "names = listdir(\"C:/Users/renz/Documents/GitHub/따릉이/BIS-GIS data\")\n",
    "names = names[5:len(names)]\n",
    "names"
   ]
  },
  {
   "cell_type": "code",
   "execution_count": null,
   "metadata": {},
   "outputs": [],
   "source": [
    "names[0]"
   ]
  },
  {
   "cell_type": "code",
   "execution_count": 19,
   "metadata": {},
   "outputs": [
    {
     "ename": "ValueError",
     "evalue": "too many values to unpack (expected 16)",
     "output_type": "error",
     "traceback": [
      "\u001b[1;31m---------------------------------------------------------------------------\u001b[0m",
      "\u001b[1;31mValueError\u001b[0m                                Traceback (most recent call last)",
      "\u001b[1;32m<ipython-input-19-836bb9c0ff68>\u001b[0m in \u001b[0;36m<module>\u001b[1;34m()\u001b[0m\n\u001b[1;32m----> 1\u001b[1;33m \u001b[0mcom100\u001b[0m\u001b[1;33m,\u001b[0m\u001b[0mapt\u001b[0m\u001b[1;33m,\u001b[0m\u001b[0mbank\u001b[0m\u001b[1;33m,\u001b[0m\u001b[0mchildcare\u001b[0m\u001b[1;33m,\u001b[0m\u001b[0mcvs\u001b[0m\u001b[1;33m,\u001b[0m\u001b[0mhigh\u001b[0m\u001b[1;33m,\u001b[0m\u001b[0mhospital\u001b[0m\u001b[1;33m,\u001b[0m\u001b[0mhousepop\u001b[0m\u001b[1;33m,\u001b[0m\u001b[0mincomeclass\u001b[0m\u001b[1;33m,\u001b[0m\u001b[0mkindergarden\u001b[0m\u001b[1;33m,\u001b[0m\u001b[0mkosdaq\u001b[0m\u001b[1;33m,\u001b[0m\u001b[0mland\u001b[0m\u001b[1;33m,\u001b[0m\u001b[0mmiddle\u001b[0m\u001b[1;33m,\u001b[0m\u001b[0mprimary\u001b[0m\u001b[1;33m,\u001b[0m\u001b[0muniversity\u001b[0m\u001b[1;33m,\u001b[0m\u001b[0mvilla\u001b[0m \u001b[1;33m=\u001b[0m \u001b[0mnames\u001b[0m\u001b[1;33m\u001b[0m\u001b[0m\n\u001b[0m",
      "\u001b[1;31mValueError\u001b[0m: too many values to unpack (expected 16)"
     ]
    }
   ],
   "source": [
    "com100,apt,bank,childcare,cvs,high,hospital,housepop = names\n",
    "incomeclass,kindergarden,kosdaq,land,middle,primary,university,villa"
   ]
  }
 ],
 "metadata": {
  "kernelspec": {
   "display_name": "Python 3",
   "language": "python",
   "name": "python3"
  },
  "language_info": {
   "codemirror_mode": {
    "name": "ipython",
    "version": 3
   },
   "file_extension": ".py",
   "mimetype": "text/x-python",
   "name": "python",
   "nbconvert_exporter": "python",
   "pygments_lexer": "ipython3",
   "version": "3.6.5"
  }
 },
 "nbformat": 4,
 "nbformat_minor": 2
}
