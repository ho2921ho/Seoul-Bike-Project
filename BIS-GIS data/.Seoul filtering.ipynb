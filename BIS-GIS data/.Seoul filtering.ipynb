{
 "cells": [
  {
   "cell_type": "code",
   "execution_count": 79,
   "metadata": {},
   "outputs": [],
   "source": [
    "import pandas as pd\n",
    "import os"
   ]
  },
  {
   "cell_type": "code",
   "execution_count": 80,
   "metadata": {},
   "outputs": [
    {
     "data": {
      "text/plain": [
       "['.ipynb_checkpoints',\n",
       " '.raw data',\n",
       " '.Seoul filtering.ipynb',\n",
       " '.변수 설명.txt',\n",
       " '1000_POI.csv',\n",
       " 'APT_100M.csv',\n",
       " 'BANK_POI.csv',\n",
       " 'CHILDCARE_POI.csv',\n",
       " 'COMPOP_100M.csv',\n",
       " 'CVS_100M.csv',\n",
       " 'HIGH_POI.csv',\n",
       " 'HOSPITAL_100M.csv',\n",
       " 'HOUSPOP_100M.csv',\n",
       " 'INCOMECLASS_100M.csv',\n",
       " 'KINDERGARDEN_POI.csv',\n",
       " 'KOSDAQ_100M.csv',\n",
       " 'LAND_100M.csv',\n",
       " 'MIDDLE_POI.csv',\n",
       " 'PRIMARY_POI.csv',\n",
       " 'UNIVERSITY_POI.csv',\n",
       " 'VILLA_100M.csv']"
      ]
     },
     "execution_count": 80,
     "metadata": {},
     "output_type": "execute_result"
    }
   ],
   "source": [
    "names = listdir(\"C:/Users/renz/Documents/GitHub/따릉이/BIS-GIS data\")\n",
    "names"
   ]
  },
  {
   "cell_type": "code",
   "execution_count": 84,
   "metadata": {},
   "outputs": [
    {
     "name": "stdout",
     "output_type": "stream",
     "text": [
      "4\n",
      "5\n",
      "6\n",
      "7\n",
      "8\n",
      "9\n",
      "10\n",
      "11\n",
      "12\n",
      "13\n",
      "14\n",
      "15\n",
      "16\n",
      "17\n",
      "18\n",
      "19\n",
      "20\n"
     ]
    }
   ],
   "source": [
    "for i in range(4,len(names)):\n",
    "    print(i)\n",
    "    file = pd.read_csv(names[i])\n",
    "    file = file.query(\"MEGA_CD == 11\")\n",
    "    del file[\"배포처\"]\n",
    "    file = file.reset_index(drop=True)\n",
    "    os.remove(names[i])\n",
    "    file.to_csv(names[i])"
   ]
  }
 ],
 "metadata": {
  "kernelspec": {
   "display_name": "Python 3",
   "language": "python",
   "name": "python3"
  },
  "language_info": {
   "codemirror_mode": {
    "name": "ipython",
    "version": 3
   },
   "file_extension": ".py",
   "mimetype": "text/x-python",
   "name": "python",
   "nbconvert_exporter": "python",
   "pygments_lexer": "ipython3",
   "version": "3.6.5"
  }
 },
 "nbformat": 4,
 "nbformat_minor": 2
}
